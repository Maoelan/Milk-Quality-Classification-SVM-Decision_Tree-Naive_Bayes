{
 "cells": [
  {
   "cell_type": "code",
   "execution_count": 637,
   "id": "9c461d00",
   "metadata": {},
   "outputs": [],
   "source": [
    "import pandas as pd\n",
    "import seaborn as sn\n",
    "import matplotlib.pyplot as plt\n",
    "\n",
    "from sklearn.model_selection import train_test_split\n",
    "\n",
    "#library sklearn untuk algoritma klasifikasi SVM\n",
    "from sklearn.svm import SVC\n",
    "#library sklearn untuk algoritma klasifikasi Decision Tree\n",
    "from sklearn.tree import DecisionTreeClassifier\n",
    "#library sklearn untuk algoritma klasifikasi Naive Bayes\n",
    "from sklearn.naive_bayes import GaussianNB\n",
    "\n",
    "from sklearn.metrics import classification_report, confusion_matrix\n",
    "from sklearn.metrics import accuracy_score"
   ]
  },
  {
   "cell_type": "code",
   "execution_count": 638,
   "id": "3a3933e9",
   "metadata": {},
   "outputs": [
    {
     "data": {
      "text/html": [
       "<div>\n",
       "<style scoped>\n",
       "    .dataframe tbody tr th:only-of-type {\n",
       "        vertical-align: middle;\n",
       "    }\n",
       "\n",
       "    .dataframe tbody tr th {\n",
       "        vertical-align: top;\n",
       "    }\n",
       "\n",
       "    .dataframe thead th {\n",
       "        text-align: right;\n",
       "    }\n",
       "</style>\n",
       "<table border=\"1\" class=\"dataframe\">\n",
       "  <thead>\n",
       "    <tr style=\"text-align: right;\">\n",
       "      <th></th>\n",
       "      <th>pH</th>\n",
       "      <th>Temprature</th>\n",
       "      <th>Taste</th>\n",
       "      <th>Odor</th>\n",
       "      <th>Fat</th>\n",
       "      <th>Turbidity</th>\n",
       "      <th>Colour</th>\n",
       "      <th>Grade</th>\n",
       "    </tr>\n",
       "  </thead>\n",
       "  <tbody>\n",
       "    <tr>\n",
       "      <th>0</th>\n",
       "      <td>6.6</td>\n",
       "      <td>35</td>\n",
       "      <td>1</td>\n",
       "      <td>0</td>\n",
       "      <td>1</td>\n",
       "      <td>0</td>\n",
       "      <td>254</td>\n",
       "      <td>high</td>\n",
       "    </tr>\n",
       "    <tr>\n",
       "      <th>1</th>\n",
       "      <td>6.6</td>\n",
       "      <td>36</td>\n",
       "      <td>0</td>\n",
       "      <td>1</td>\n",
       "      <td>0</td>\n",
       "      <td>1</td>\n",
       "      <td>253</td>\n",
       "      <td>high</td>\n",
       "    </tr>\n",
       "    <tr>\n",
       "      <th>2</th>\n",
       "      <td>8.5</td>\n",
       "      <td>70</td>\n",
       "      <td>1</td>\n",
       "      <td>1</td>\n",
       "      <td>1</td>\n",
       "      <td>1</td>\n",
       "      <td>246</td>\n",
       "      <td>low</td>\n",
       "    </tr>\n",
       "    <tr>\n",
       "      <th>3</th>\n",
       "      <td>9.5</td>\n",
       "      <td>34</td>\n",
       "      <td>1</td>\n",
       "      <td>1</td>\n",
       "      <td>0</td>\n",
       "      <td>1</td>\n",
       "      <td>255</td>\n",
       "      <td>low</td>\n",
       "    </tr>\n",
       "    <tr>\n",
       "      <th>4</th>\n",
       "      <td>6.6</td>\n",
       "      <td>37</td>\n",
       "      <td>0</td>\n",
       "      <td>0</td>\n",
       "      <td>0</td>\n",
       "      <td>0</td>\n",
       "      <td>255</td>\n",
       "      <td>medium</td>\n",
       "    </tr>\n",
       "  </tbody>\n",
       "</table>\n",
       "</div>"
      ],
      "text/plain": [
       "    pH  Temprature  Taste  Odor  Fat   Turbidity  Colour   Grade\n",
       "0  6.6          35      1     0     1          0     254    high\n",
       "1  6.6          36      0     1     0          1     253    high\n",
       "2  8.5          70      1     1     1          1     246     low\n",
       "3  9.5          34      1     1     0          1     255     low\n",
       "4  6.6          37      0     0     0          0     255  medium"
      ]
     },
     "execution_count": 638,
     "metadata": {},
     "output_type": "execute_result"
    }
   ],
   "source": [
    "milk = pd.read_csv(\"milknew.csv\")\n",
    "milk.head()"
   ]
  },
  {
   "cell_type": "code",
   "execution_count": 639,
   "id": "16036f32",
   "metadata": {},
   "outputs": [
    {
     "data": {
      "text/html": [
       "<div>\n",
       "<style scoped>\n",
       "    .dataframe tbody tr th:only-of-type {\n",
       "        vertical-align: middle;\n",
       "    }\n",
       "\n",
       "    .dataframe tbody tr th {\n",
       "        vertical-align: top;\n",
       "    }\n",
       "\n",
       "    .dataframe thead th {\n",
       "        text-align: right;\n",
       "    }\n",
       "</style>\n",
       "<table border=\"1\" class=\"dataframe\">\n",
       "  <thead>\n",
       "    <tr style=\"text-align: right;\">\n",
       "      <th></th>\n",
       "      <th>pH</th>\n",
       "      <th>Temprature</th>\n",
       "      <th>Taste</th>\n",
       "      <th>Odor</th>\n",
       "      <th>Fat</th>\n",
       "      <th>Turbidity</th>\n",
       "      <th>Colour</th>\n",
       "    </tr>\n",
       "  </thead>\n",
       "  <tbody>\n",
       "    <tr>\n",
       "      <th>0</th>\n",
       "      <td>6.6</td>\n",
       "      <td>35</td>\n",
       "      <td>1</td>\n",
       "      <td>0</td>\n",
       "      <td>1</td>\n",
       "      <td>0</td>\n",
       "      <td>254</td>\n",
       "    </tr>\n",
       "    <tr>\n",
       "      <th>1</th>\n",
       "      <td>6.6</td>\n",
       "      <td>36</td>\n",
       "      <td>0</td>\n",
       "      <td>1</td>\n",
       "      <td>0</td>\n",
       "      <td>1</td>\n",
       "      <td>253</td>\n",
       "    </tr>\n",
       "    <tr>\n",
       "      <th>2</th>\n",
       "      <td>8.5</td>\n",
       "      <td>70</td>\n",
       "      <td>1</td>\n",
       "      <td>1</td>\n",
       "      <td>1</td>\n",
       "      <td>1</td>\n",
       "      <td>246</td>\n",
       "    </tr>\n",
       "    <tr>\n",
       "      <th>3</th>\n",
       "      <td>9.5</td>\n",
       "      <td>34</td>\n",
       "      <td>1</td>\n",
       "      <td>1</td>\n",
       "      <td>0</td>\n",
       "      <td>1</td>\n",
       "      <td>255</td>\n",
       "    </tr>\n",
       "    <tr>\n",
       "      <th>4</th>\n",
       "      <td>6.6</td>\n",
       "      <td>37</td>\n",
       "      <td>0</td>\n",
       "      <td>0</td>\n",
       "      <td>0</td>\n",
       "      <td>0</td>\n",
       "      <td>255</td>\n",
       "    </tr>\n",
       "    <tr>\n",
       "      <th>...</th>\n",
       "      <td>...</td>\n",
       "      <td>...</td>\n",
       "      <td>...</td>\n",
       "      <td>...</td>\n",
       "      <td>...</td>\n",
       "      <td>...</td>\n",
       "      <td>...</td>\n",
       "    </tr>\n",
       "    <tr>\n",
       "      <th>1054</th>\n",
       "      <td>6.7</td>\n",
       "      <td>45</td>\n",
       "      <td>1</td>\n",
       "      <td>1</td>\n",
       "      <td>0</td>\n",
       "      <td>0</td>\n",
       "      <td>247</td>\n",
       "    </tr>\n",
       "    <tr>\n",
       "      <th>1055</th>\n",
       "      <td>6.7</td>\n",
       "      <td>38</td>\n",
       "      <td>1</td>\n",
       "      <td>0</td>\n",
       "      <td>1</td>\n",
       "      <td>0</td>\n",
       "      <td>255</td>\n",
       "    </tr>\n",
       "    <tr>\n",
       "      <th>1056</th>\n",
       "      <td>3.0</td>\n",
       "      <td>40</td>\n",
       "      <td>1</td>\n",
       "      <td>1</td>\n",
       "      <td>1</td>\n",
       "      <td>1</td>\n",
       "      <td>255</td>\n",
       "    </tr>\n",
       "    <tr>\n",
       "      <th>1057</th>\n",
       "      <td>6.8</td>\n",
       "      <td>43</td>\n",
       "      <td>1</td>\n",
       "      <td>0</td>\n",
       "      <td>1</td>\n",
       "      <td>0</td>\n",
       "      <td>250</td>\n",
       "    </tr>\n",
       "    <tr>\n",
       "      <th>1058</th>\n",
       "      <td>8.6</td>\n",
       "      <td>55</td>\n",
       "      <td>0</td>\n",
       "      <td>1</td>\n",
       "      <td>1</td>\n",
       "      <td>1</td>\n",
       "      <td>255</td>\n",
       "    </tr>\n",
       "  </tbody>\n",
       "</table>\n",
       "<p>1059 rows × 7 columns</p>\n",
       "</div>"
      ],
      "text/plain": [
       "       pH  Temprature  Taste  Odor  Fat   Turbidity  Colour\n",
       "0     6.6          35      1     0     1          0     254\n",
       "1     6.6          36      0     1     0          1     253\n",
       "2     8.5          70      1     1     1          1     246\n",
       "3     9.5          34      1     1     0          1     255\n",
       "4     6.6          37      0     0     0          0     255\n",
       "...   ...         ...    ...   ...   ...        ...     ...\n",
       "1054  6.7          45      1     1     0          0     247\n",
       "1055  6.7          38      1     0     1          0     255\n",
       "1056  3.0          40      1     1     1          1     255\n",
       "1057  6.8          43      1     0     1          0     250\n",
       "1058  8.6          55      0     1     1          1     255\n",
       "\n",
       "[1059 rows x 7 columns]"
      ]
     },
     "execution_count": 639,
     "metadata": {},
     "output_type": "execute_result"
    }
   ],
   "source": [
    "X = milk.iloc[:,:7]\n",
    "X"
   ]
  },
  {
   "cell_type": "code",
   "execution_count": 640,
   "id": "c8522058",
   "metadata": {},
   "outputs": [
    {
     "data": {
      "text/plain": [
       "0         high\n",
       "1         high\n",
       "2          low\n",
       "3          low\n",
       "4       medium\n",
       "         ...  \n",
       "1054    medium\n",
       "1055      high\n",
       "1056       low\n",
       "1057      high\n",
       "1058       low\n",
       "Name: Grade, Length: 1059, dtype: object"
      ]
     },
     "execution_count": 640,
     "metadata": {},
     "output_type": "execute_result"
    }
   ],
   "source": [
    "y = milk.iloc[:,7]\n",
    "y"
   ]
  },
  {
   "cell_type": "code",
   "execution_count": 641,
   "id": "7fab724b",
   "metadata": {},
   "outputs": [
    {
     "name": "stdout",
     "output_type": "stream",
     "text": [
      "1059\n",
      "1059\n"
     ]
    }
   ],
   "source": [
    "print(len(X))\n",
    "print(len(y))"
   ]
  },
  {
   "cell_type": "code",
   "execution_count": 642,
   "id": "a7ca5667",
   "metadata": {},
   "outputs": [],
   "source": [
    "#untuk memisahkan data train dan test \n",
    "X_train, X_test, y_train, y_test = train_test_split(X, y, test_size = 0.3)"
   ]
  },
  {
   "cell_type": "markdown",
   "id": "86ace8a6",
   "metadata": {},
   "source": [
    "# Algoritma Klasifikasi SVM"
   ]
  },
  {
   "cell_type": "code",
   "execution_count": 643,
   "id": "f9ebaa4f",
   "metadata": {},
   "outputs": [
    {
     "data": {
      "text/plain": [
       "SVC(kernel='linear')"
      ]
     },
     "execution_count": 643,
     "metadata": {},
     "output_type": "execute_result"
    }
   ],
   "source": [
    "#untuk melatih model SVM\n",
    "svc = SVC(kernel=\"linear\")\n",
    "svc.fit(X_train, y_train)"
   ]
  },
  {
   "cell_type": "code",
   "execution_count": 644,
   "id": "f30887b3",
   "metadata": {},
   "outputs": [
    {
     "data": {
      "text/plain": [
       "array(['high', 'high', 'high', 'low', 'medium', 'low', 'medium', 'medium',\n",
       "       'medium', 'high', 'high', 'low', 'medium', 'low', 'low', 'high',\n",
       "       'low', 'low', 'low', 'low', 'medium', 'low', 'low', 'low', 'low',\n",
       "       'medium', 'high', 'high', 'high', 'low', 'medium', 'medium',\n",
       "       'medium', 'low', 'medium', 'low', 'low', 'low', 'medium', 'low',\n",
       "       'low', 'low', 'high', 'high', 'low', 'medium', 'medium', 'medium',\n",
       "       'low', 'high', 'medium', 'low', 'high', 'medium', 'low', 'low',\n",
       "       'medium', 'medium', 'low', 'medium', 'high', 'high', 'medium',\n",
       "       'medium', 'medium', 'low', 'medium', 'high', 'low', 'medium',\n",
       "       'high', 'low', 'high', 'medium', 'low', 'medium', 'low', 'medium',\n",
       "       'low', 'medium', 'high', 'low', 'low', 'low', 'medium', 'medium',\n",
       "       'high', 'low', 'medium', 'low', 'low', 'medium', 'high', 'low',\n",
       "       'high', 'high', 'low', 'low', 'low', 'low', 'medium', 'medium',\n",
       "       'low', 'medium', 'low', 'high', 'low', 'low', 'medium', 'medium',\n",
       "       'low', 'medium', 'medium', 'low', 'low', 'low', 'low', 'medium',\n",
       "       'high', 'low', 'low', 'medium', 'low', 'low', 'low', 'high',\n",
       "       'medium', 'medium', 'high', 'high', 'high', 'low', 'high', 'low',\n",
       "       'low', 'high', 'low', 'medium', 'low', 'high', 'medium', 'high',\n",
       "       'low', 'low', 'high', 'medium', 'high', 'low', 'medium', 'low',\n",
       "       'medium', 'low', 'medium', 'medium', 'low', 'low', 'high',\n",
       "       'medium', 'high', 'low', 'low', 'high', 'low', 'high', 'low',\n",
       "       'medium', 'low', 'medium', 'high', 'medium', 'low', 'high', 'high',\n",
       "       'low', 'high', 'high', 'medium', 'high', 'low', 'low', 'medium',\n",
       "       'medium', 'medium', 'low', 'high', 'medium', 'high', 'low',\n",
       "       'medium', 'medium', 'low', 'medium', 'medium', 'high', 'low',\n",
       "       'low', 'high', 'low', 'high', 'low', 'low', 'high', 'high', 'high',\n",
       "       'high', 'low', 'high', 'high', 'high', 'high', 'high', 'low',\n",
       "       'high', 'low', 'high', 'medium', 'low', 'medium', 'low', 'high',\n",
       "       'medium', 'low', 'medium', 'low', 'medium', 'medium', 'low', 'low',\n",
       "       'low', 'high', 'medium', 'high', 'high', 'medium', 'low', 'high',\n",
       "       'low', 'low', 'low', 'medium', 'high', 'low', 'low', 'low',\n",
       "       'medium', 'medium', 'high', 'medium', 'medium', 'medium', 'medium',\n",
       "       'low', 'low', 'medium', 'medium', 'high', 'high', 'medium', 'high',\n",
       "       'medium', 'low', 'low', 'high', 'high', 'medium', 'medium', 'high',\n",
       "       'low', 'medium', 'high', 'low', 'low', 'medium', 'low', 'medium',\n",
       "       'medium', 'low', 'low', 'low', 'high', 'high', 'high', 'low',\n",
       "       'low', 'medium', 'high', 'high', 'medium', 'medium', 'low', 'high',\n",
       "       'medium', 'high', 'low', 'high', 'high', 'high', 'high', 'high',\n",
       "       'high', 'medium', 'low', 'high', 'low', 'medium', 'high', 'medium',\n",
       "       'low', 'low', 'medium', 'high', 'low', 'high', 'high', 'low',\n",
       "       'medium', 'high', 'medium'], dtype=object)"
      ]
     },
     "execution_count": 644,
     "metadata": {},
     "output_type": "execute_result"
    }
   ],
   "source": [
    "#untuk melakukan testing model SVM\n",
    "y_pred = svc.predict(X_test)\n",
    "y_pred"
   ]
  },
  {
   "cell_type": "code",
   "execution_count": 645,
   "id": "9414dae3",
   "metadata": {},
   "outputs": [
    {
     "name": "stdout",
     "output_type": "stream",
     "text": [
      "Confusion matrix : \n",
      " [[ 77  11   6]\n",
      " [  5 113   7]\n",
      " [  0   2  97]]\n",
      "Classification report matrix : \n",
      "               precision    recall  f1-score   support\n",
      "\n",
      "        high       0.94      0.82      0.88        94\n",
      "         low       0.90      0.90      0.90       125\n",
      "      medium       0.88      0.98      0.93        99\n",
      "\n",
      "    accuracy                           0.90       318\n",
      "   macro avg       0.91      0.90      0.90       318\n",
      "weighted avg       0.90      0.90      0.90       318\n",
      "\n"
     ]
    }
   ],
   "source": [
    "#Evaluasi model SVM\n",
    "print(\"Confusion matrix : \\n\", confusion_matrix(y_pred, y_test))\n",
    "print(\"Classification report matrix : \\n\", classification_report(y_pred, y_test))"
   ]
  },
  {
   "cell_type": "code",
   "execution_count": 646,
   "id": "f236f14f",
   "metadata": {},
   "outputs": [
    {
     "name": "stdout",
     "output_type": "stream",
     "text": [
      "0.9025157232704403\n"
     ]
    }
   ],
   "source": [
    "#Untuk mengecek akurasi dari model SVM\n",
    "print(accuracy_score(y_pred, y_test))"
   ]
  },
  {
   "cell_type": "markdown",
   "id": "fc9673e9",
   "metadata": {},
   "source": [
    "# Algoritma Klasifikasi Decision Tree"
   ]
  },
  {
   "cell_type": "code",
   "execution_count": 647,
   "id": "8e4aaaa5",
   "metadata": {},
   "outputs": [],
   "source": [
    "dt = DecisionTreeClassifier(criterion = \"entropy\")\n",
    "dt = dt.fit(X_train, y_train)"
   ]
  },
  {
   "cell_type": "code",
   "execution_count": 648,
   "id": "e7789298",
   "metadata": {},
   "outputs": [
    {
     "data": {
      "text/plain": [
       "array(['high', 'medium', 'high', 'low', 'medium', 'low', 'medium',\n",
       "       'medium', 'medium', 'high', 'high', 'low', 'medium', 'low', 'low',\n",
       "       'medium', 'low', 'low', 'low', 'low', 'medium', 'low', 'low',\n",
       "       'medium', 'medium', 'medium', 'high', 'high', 'high', 'low',\n",
       "       'medium', 'medium', 'medium', 'low', 'medium', 'low', 'high',\n",
       "       'low', 'medium', 'low', 'low', 'low', 'high', 'high', 'medium',\n",
       "       'medium', 'medium', 'medium', 'low', 'high', 'medium', 'low',\n",
       "       'high', 'medium', 'low', 'low', 'medium', 'medium', 'low',\n",
       "       'medium', 'high', 'high', 'medium', 'medium', 'medium', 'low',\n",
       "       'medium', 'high', 'low', 'medium', 'high', 'low', 'high', 'low',\n",
       "       'low', 'medium', 'low', 'medium', 'low', 'medium', 'high', 'low',\n",
       "       'medium', 'low', 'medium', 'medium', 'high', 'low', 'medium',\n",
       "       'low', 'low', 'medium', 'high', 'low', 'low', 'high', 'low', 'low',\n",
       "       'high', 'low', 'medium', 'medium', 'low', 'medium', 'low', 'high',\n",
       "       'low', 'high', 'medium', 'medium', 'low', 'medium', 'medium',\n",
       "       'low', 'low', 'low', 'low', 'medium', 'high', 'low', 'low',\n",
       "       'medium', 'low', 'low', 'low', 'high', 'medium', 'medium', 'high',\n",
       "       'high', 'high', 'medium', 'medium', 'medium', 'low', 'high', 'low',\n",
       "       'medium', 'low', 'high', 'medium', 'high', 'low', 'low', 'high',\n",
       "       'medium', 'low', 'low', 'medium', 'low', 'medium', 'low', 'medium',\n",
       "       'medium', 'low', 'low', 'high', 'medium', 'high', 'low', 'low',\n",
       "       'high', 'low', 'high', 'low', 'medium', 'low', 'medium', 'medium',\n",
       "       'medium', 'low', 'high', 'high', 'low', 'high', 'high', 'medium',\n",
       "       'high', 'low', 'low', 'medium', 'medium', 'medium', 'low', 'high',\n",
       "       'medium', 'high', 'low', 'medium', 'medium', 'low', 'medium',\n",
       "       'medium', 'high', 'low', 'low', 'low', 'low', 'low', 'low', 'low',\n",
       "       'low', 'low', 'high', 'low', 'low', 'high', 'high', 'high', 'high',\n",
       "       'high', 'low', 'high', 'low', 'high', 'medium', 'low', 'medium',\n",
       "       'low', 'high', 'medium', 'low', 'medium', 'low', 'medium',\n",
       "       'medium', 'low', 'low', 'low', 'low', 'medium', 'high', 'high',\n",
       "       'medium', 'low', 'high', 'low', 'low', 'high', 'medium', 'high',\n",
       "       'low', 'low', 'low', 'medium', 'medium', 'high', 'medium',\n",
       "       'medium', 'medium', 'medium', 'low', 'low', 'medium', 'medium',\n",
       "       'high', 'high', 'medium', 'high', 'medium', 'low', 'low', 'high',\n",
       "       'high', 'medium', 'medium', 'low', 'low', 'medium', 'low', 'low',\n",
       "       'low', 'medium', 'medium', 'medium', 'medium', 'low', 'high',\n",
       "       'low', 'medium', 'high', 'low', 'low', 'low', 'medium', 'high',\n",
       "       'high', 'medium', 'medium', 'low', 'high', 'medium', 'high', 'low',\n",
       "       'high', 'high', 'high', 'high', 'high', 'medium', 'medium', 'low',\n",
       "       'high', 'low', 'medium', 'high', 'medium', 'low', 'low', 'medium',\n",
       "       'high', 'low', 'high', 'medium', 'low', 'medium', 'high', 'medium'],\n",
       "      dtype=object)"
      ]
     },
     "execution_count": 648,
     "metadata": {},
     "output_type": "execute_result"
    }
   ],
   "source": [
    "y_pred = dt.predict(X_test)\n",
    "y_pred"
   ]
  },
  {
   "cell_type": "code",
   "execution_count": 649,
   "id": "2a6c0be1",
   "metadata": {},
   "outputs": [
    {
     "name": "stdout",
     "output_type": "stream",
     "text": [
      "Confusion matrix : \n",
      " [[ 81   0   0]\n",
      " [  0 125   0]\n",
      " [  1   1 110]]\n",
      "Classification report matrix : \n",
      "               precision    recall  f1-score   support\n",
      "\n",
      "        high       0.99      1.00      0.99        81\n",
      "         low       0.99      1.00      1.00       125\n",
      "      medium       1.00      0.98      0.99       112\n",
      "\n",
      "    accuracy                           0.99       318\n",
      "   macro avg       0.99      0.99      0.99       318\n",
      "weighted avg       0.99      0.99      0.99       318\n",
      "\n"
     ]
    }
   ],
   "source": [
    "print(\"Confusion matrix : \\n\", confusion_matrix(y_pred, y_test))\n",
    "print(\"Classification report matrix : \\n\", classification_report(y_pred, y_test))"
   ]
  },
  {
   "cell_type": "code",
   "execution_count": 650,
   "id": "d375e1a6",
   "metadata": {},
   "outputs": [
    {
     "name": "stdout",
     "output_type": "stream",
     "text": [
      "0.9937106918238994\n"
     ]
    }
   ],
   "source": [
    "print(accuracy_score(y_pred, y_test))"
   ]
  },
  {
   "cell_type": "markdown",
   "id": "45a223e9",
   "metadata": {},
   "source": [
    "# Algoritma Klasifikasi Naive Bayes"
   ]
  },
  {
   "cell_type": "code",
   "execution_count": 651,
   "id": "4c8bdecc",
   "metadata": {},
   "outputs": [],
   "source": [
    "nb = GaussianNB()\n",
    "nb = nb.fit(X_train, y_train)"
   ]
  },
  {
   "cell_type": "code",
   "execution_count": 652,
   "id": "21307ed3",
   "metadata": {},
   "outputs": [
    {
     "data": {
      "text/plain": [
       "array(['high', 'medium', 'high', 'low', 'medium', 'low', 'medium',\n",
       "       'medium', 'medium', 'high', 'medium', 'low', 'medium', 'low',\n",
       "       'low', 'high', 'low', 'low', 'low', 'low', 'medium', 'low', 'low',\n",
       "       'low', 'low', 'medium', 'medium', 'high', 'high', 'low', 'medium',\n",
       "       'medium', 'medium', 'low', 'medium', 'low', 'high', 'low',\n",
       "       'medium', 'low', 'low', 'low', 'high', 'high', 'low', 'medium',\n",
       "       'medium', 'medium', 'medium', 'high', 'medium', 'low', 'high',\n",
       "       'medium', 'low', 'low', 'medium', 'medium', 'low', 'medium',\n",
       "       'high', 'high', 'medium', 'medium', 'medium', 'low', 'medium',\n",
       "       'high', 'low', 'medium', 'high', 'low', 'high', 'medium', 'low',\n",
       "       'medium', 'low', 'medium', 'low', 'medium', 'high', 'low', 'low',\n",
       "       'low', 'medium', 'medium', 'high', 'low', 'medium', 'low', 'low',\n",
       "       'medium', 'high', 'low', 'low', 'high', 'low', 'low', 'high',\n",
       "       'low', 'medium', 'medium', 'low', 'medium', 'low', 'high', 'low',\n",
       "       'high', 'medium', 'medium', 'low', 'medium', 'medium', 'low',\n",
       "       'low', 'low', 'low', 'medium', 'high', 'low', 'low', 'medium',\n",
       "       'low', 'low', 'medium', 'medium', 'medium', 'medium', 'high',\n",
       "       'high', 'medium', 'low', 'medium', 'low', 'low', 'high', 'low',\n",
       "       'medium', 'low', 'high', 'medium', 'high', 'low', 'low', 'high',\n",
       "       'medium', 'low', 'low', 'medium', 'low', 'medium', 'low', 'medium',\n",
       "       'medium', 'low', 'low', 'high', 'medium', 'high', 'medium', 'low',\n",
       "       'medium', 'low', 'medium', 'low', 'medium', 'low', 'medium',\n",
       "       'high', 'medium', 'low', 'high', 'high', 'low', 'medium', 'high',\n",
       "       'medium', 'high', 'low', 'low', 'medium', 'medium', 'medium',\n",
       "       'low', 'high', 'medium', 'high', 'low', 'medium', 'medium', 'low',\n",
       "       'medium', 'medium', 'high', 'low', 'low', 'high', 'low', 'low',\n",
       "       'low', 'low', 'low', 'high', 'high', 'low', 'low', 'medium',\n",
       "       'high', 'high', 'high', 'high', 'low', 'high', 'low', 'high',\n",
       "       'medium', 'low', 'medium', 'low', 'high', 'medium', 'low',\n",
       "       'medium', 'low', 'medium', 'medium', 'low', 'low', 'low', 'low',\n",
       "       'medium', 'high', 'high', 'medium', 'low', 'high', 'low', 'low',\n",
       "       'high', 'medium', 'high', 'low', 'low', 'low', 'medium', 'medium',\n",
       "       'high', 'medium', 'low', 'medium', 'medium', 'low', 'low',\n",
       "       'medium', 'medium', 'high', 'high', 'medium', 'high', 'high',\n",
       "       'low', 'low', 'high', 'medium', 'medium', 'medium', 'low', 'low',\n",
       "       'medium', 'low', 'high', 'low', 'medium', 'low', 'medium',\n",
       "       'medium', 'low', 'high', 'low', 'high', 'high', 'low', 'low',\n",
       "       'low', 'medium', 'high', 'high', 'medium', 'medium', 'low', 'high',\n",
       "       'medium', 'high', 'low', 'high', 'high', 'medium', 'high', 'high',\n",
       "       'high', 'medium', 'low', 'high', 'low', 'medium', 'high', 'medium',\n",
       "       'low', 'low', 'medium', 'high', 'low', 'high', 'high', 'low',\n",
       "       'medium', 'high', 'medium'], dtype='<U6')"
      ]
     },
     "execution_count": 652,
     "metadata": {},
     "output_type": "execute_result"
    }
   ],
   "source": [
    "y_pred = nb.predict(X_test)\n",
    "y_pred"
   ]
  },
  {
   "cell_type": "code",
   "execution_count": 653,
   "id": "6e0e315f",
   "metadata": {},
   "outputs": [
    {
     "name": "stdout",
     "output_type": "stream",
     "text": [
      "Confusion matrix : \n",
      " [[ 72   3   5]\n",
      " [  0 119   7]\n",
      " [ 10   4  98]]\n",
      "Classification report matrix : \n",
      "               precision    recall  f1-score   support\n",
      "\n",
      "        high       0.88      0.90      0.89        80\n",
      "         low       0.94      0.94      0.94       126\n",
      "      medium       0.89      0.88      0.88       112\n",
      "\n",
      "    accuracy                           0.91       318\n",
      "   macro avg       0.90      0.91      0.91       318\n",
      "weighted avg       0.91      0.91      0.91       318\n",
      "\n"
     ]
    }
   ],
   "source": [
    "print(\"Confusion matrix : \\n\", confusion_matrix(y_pred, y_test))\n",
    "print(\"Classification report matrix : \\n\", classification_report(y_pred, y_test))"
   ]
  },
  {
   "cell_type": "code",
   "execution_count": 654,
   "id": "53c27f05",
   "metadata": {},
   "outputs": [
    {
     "name": "stdout",
     "output_type": "stream",
     "text": [
      "0.9088050314465409\n"
     ]
    }
   ],
   "source": [
    "print(accuracy_score(y_pred, y_test))"
   ]
  }
 ],
 "metadata": {
  "kernelspec": {
   "display_name": "Python 3 (ipykernel)",
   "language": "python",
   "name": "python3"
  },
  "language_info": {
   "codemirror_mode": {
    "name": "ipython",
    "version": 3
   },
   "file_extension": ".py",
   "mimetype": "text/x-python",
   "name": "python",
   "nbconvert_exporter": "python",
   "pygments_lexer": "ipython3",
   "version": "3.9.12"
  }
 },
 "nbformat": 4,
 "nbformat_minor": 5
}
